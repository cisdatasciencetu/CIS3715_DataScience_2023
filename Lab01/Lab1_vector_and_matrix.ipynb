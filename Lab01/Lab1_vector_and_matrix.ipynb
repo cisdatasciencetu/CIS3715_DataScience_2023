{
 "cells": [
  {
   "cell_type": "markdown",
   "metadata": {},
   "source": [
    "# Part 2. Vector and Matrix"
   ]
  },
  {
   "cell_type": "markdown",
   "metadata": {},
   "source": [
    "In this lab, we will learn how to use Python to operate vectors and matrices. "
   ]
  },
  {
   "cell_type": "markdown",
   "metadata": {},
   "source": [
    "## 1. Example"
   ]
  },
  {
   "cell_type": "markdown",
   "metadata": {},
   "source": [
    "### 1.1 Load data with pandas"
   ]
  },
  {
   "cell_type": "code",
   "execution_count": 3,
   "metadata": {},
   "outputs": [
    {
     "name": "stdout",
     "output_type": "stream",
     "text": [
      "<class 'numpy.ndarray'>\n",
      "(406, 7)\n",
      "[[18.0 8 307.0 ... 3504 12.0 70]\n",
      " [15.0 8 350.0 ... 3693 11.5 70]\n",
      " [18.0 8 318.0 ... 3436 11.0 70]\n",
      " ...\n",
      " [32.0 4 135.0 ... 2295 11.6 82]\n",
      " [28.0 4 120.0 ... 2625 18.6 82]\n",
      " [31.0 4 119.0 ... 2720 19.4 82]]\n"
     ]
    }
   ],
   "source": [
    "import numpy as np\n",
    "import pandas as pd\n",
    "\n",
    "# load data with pandas\n",
    "df = pd.read_csv('cars.csv')\n",
    "# print(df)\n",
    "\n",
    "# convert a pandas dataframe to a numpy array\n",
    "X = df.values[:, 1:-1]\n",
    "print(type(X))\n",
    "print(X.shape)\n",
    "print(X)"
   ]
  },
  {
   "cell_type": "markdown",
   "metadata": {},
   "source": [
    "### 1.2 Operation for vector"
   ]
  },
  {
   "cell_type": "code",
   "execution_count": 4,
   "metadata": {},
   "outputs": [
    {
     "name": "stdout",
     "output_type": "stream",
     "text": [
      "[18.0 8 307.0 130 3504 12.0 70]\n",
      "[28.0 4 120.0 79 2625 18.6 82]\n",
      "[46.0 12 427.0 209 6129 30.6 152]\n"
     ]
    }
   ],
   "source": [
    "#Get first row and the second to last row\n",
    "\n",
    "x1 = X[0, :]\n",
    "x2 = X[-2, :]\n",
    "\n",
    "print(x1)\n",
    "print(x2)\n",
    "\n",
    "# Addition\n",
    "\n",
    "y = x1 + x2\n",
    "print(y)"
   ]
  },
  {
   "cell_type": "markdown",
   "metadata": {},
   "source": [
    "### 1.3 Operation for matrix"
   ]
  },
  {
   "cell_type": "code",
   "execution_count": 5,
   "metadata": {},
   "outputs": [
    {
     "name": "stdout",
     "output_type": "stream",
     "text": [
      "[[18.0 8 307.0 130 3504 12.0 70]\n",
      " [15.0 8 350.0 165 3693 11.5 70]\n",
      " [18.0 8 318.0 150 3436 11.0 70]\n",
      " [16.0 8 304.0 150 3433 12.0 70]\n",
      " [17.0 8 302.0 140 3449 10.5 70]]\n",
      "[[27.0 4 140.0 86 2790 15.6 82]\n",
      " [44.0 4 97.0 52 2130 24.6 82]\n",
      " [32.0 4 135.0 84 2295 11.6 82]\n",
      " [28.0 4 120.0 79 2625 18.6 82]\n",
      " [31.0 4 119.0 82 2720 19.4 82]]\n",
      "[[-9.0 4 167.0 44 714 -3.5999999999999996 -12]\n",
      " [-29.0 4 253.0 113 1563 -13.100000000000001 -12]\n",
      " [-14.0 4 183.0 66 1141 -0.5999999999999996 -12]\n",
      " [-12.0 4 184.0 71 808 -6.600000000000001 -12]\n",
      " [-14.0 4 183.0 58 729 -8.899999999999999 -12]]\n"
     ]
    }
   ],
   "source": [
    "# Get first 5 rows and last 5 rows \n",
    "\n",
    "m1 = X[0:5, :]\n",
    "m2 = X[-5:, :]\n",
    "\n",
    "print(m1)\n",
    "print(m2)\n",
    "\n",
    "# Subtraction\n",
    "m = m1 - m2\n",
    "print(m)"
   ]
  },
  {
   "cell_type": "markdown",
   "metadata": {},
   "source": [
    "## 2 Task"
   ]
  },
  {
   "cell_type": "markdown",
   "metadata": {},
   "source": [
    "### 2.1 Get the first column and the second to last column from X"
   ]
  },
  {
   "cell_type": "code",
   "execution_count": 16,
   "metadata": {},
   "outputs": [
    {
     "name": "stdout",
     "output_type": "stream",
     "text": [
      "[18.0 15.0 18.0 16.0 17.0 15.0 14.0 14.0 14.0 15.0 0.0 0.0 0.0 0.0 0.0]\n",
      "[12.0 11.5 11.0 12.0 10.5 10.0 9.0 8.5 10.0 8.5 17.5 11.5 11.0 10.5 11.0]\n"
     ]
    }
   ],
   "source": [
    "# this is your code to get two vectors\n",
    "#m3=X[:,(0,-2)]\n",
    "m3=X[:,0]\n",
    "m4=X[:,-2]\n",
    "print(m3[0:15])\n",
    "print(m4[0:15])\n"
   ]
  },
  {
   "cell_type": "markdown",
   "metadata": {},
   "source": [
    "### 2.2 Perform following operations on these two vectors and print the result"
   ]
  },
  {
   "cell_type": "code",
   "execution_count": 17,
   "metadata": {},
   "outputs": [
    {
     "name": "stdout",
     "output_type": "stream",
     "text": [
      "149295.04000000004\n",
      "9358.800000000003 494.28813459357895 191.0366358641296\n",
      "216.10913909411607\n"
     ]
    }
   ],
   "source": [
    "\n",
    "# 1. addition and subtraction\n",
    "additionSubtraction=m3+m4\n",
    "#print(additionSubtraction)\n",
    "# 2. element-wise multiplication\n",
    "multiplication=m3*m4\n",
    "#print(multiplication)\n",
    "# 3. inner product\n",
    "dotProduct=np.inner(m3,m4)\n",
    "print(dotProduct)\n",
    "# 4. three norms\n",
    "l1=np.linalg.norm(m3,1)\n",
    "l2=np.linalg.norm(m3,2)\n",
    "l3=np.linalg.norm(m3,3)\n",
    "print(l1,l2,l3)\n",
    "# 5. compute the distance between these two vectors\n",
    "dist = np.linalg.norm(m3 - m4)\n",
    "print(dist)"
   ]
  },
  {
   "cell_type": "markdown",
   "metadata": {},
   "source": [
    "### 2.3 Get the first three columns and the last three columns from X"
   ]
  },
  {
   "cell_type": "code",
   "execution_count": 22,
   "metadata": {},
   "outputs": [
    {
     "name": "stdout",
     "output_type": "stream",
     "text": [
      "[[18.0 8 307.0]\n",
      " [15.0 8 350.0]\n",
      " [18.0 8 318.0]\n",
      " ...\n",
      " [32.0 4 135.0]\n",
      " [28.0 4 120.0]\n",
      " [31.0 4 119.0]] [[70 12.0 3504]\n",
      " [70 11.5 3693]\n",
      " [70 11.0 3436]\n",
      " ...\n",
      " [82 11.6 2295]\n",
      " [82 18.6 2625]\n",
      " [82 19.4 2720]]\n"
     ]
    }
   ],
   "source": [
    "# this is your code to get two matrices: A, B\n",
    "A=X[:,(0,1,2)]\n",
    "B=X[:,(-1,-2,-3)]\n",
    "\n",
    "print(A, B)"
   ]
  },
  {
   "cell_type": "markdown",
   "metadata": {},
   "source": [
    "### 2.4 Perform following operations on these two matrices and print the result"
   ]
  },
  {
   "cell_type": "code",
   "execution_count": 25,
   "metadata": {},
   "outputs": [
    {
     "name": "stdout",
     "output_type": "stream",
     "text": [
      "(3, 406)\n",
      "(406, 406)\n",
      "[[1077084.0 1135103.0 1056200.0 ... 706133.8 807499.8 836671.2]\n",
      " [1227546.0 1293692.0 1203738.0 ... 804572.8 920128.8 953385.2]\n",
      " [1115628.0 1175726.0 1093996.0 ... 731378.8 836374.8 866591.2]\n",
      " ...\n",
      " [475328.0 500841.0 466144.0 ... 312495.4 357073.4 369901.6]\n",
      " [422488.0 445166.0 414324.0 ... 277742.4 317370.4 328773.6]\n",
      " [419194.0 441683.0 411098.0 ... 275693.4 314991.4 326299.6]]\n"
     ]
    }
   ],
   "source": [
    "# 1. addition and subtraction \n",
    "add=A+B\n",
    "#print(add)\n",
    "# 2. compute the transpose of the second matrix: C = B^T, and print the shape of C\n",
    "c=np.transpose(B)\n",
    "print(c.shape)\n",
    "# 3. compute the product between A and C, and print the result and its shape\n",
    "AC=np.dot(A,c)\n",
    "print(AC.shape)\n",
    "print(AC)\n",
    "# 4. compute the transpose of the first matrix: D = A^T, and print the shape of D\n",
    "D=np.transpose(A)\n",
    "print(D.shape)\n",
    "# 5. compute the product between D and B, and print the result and its shape\n",
    "DB=np.dot(D,B)\n",
    "print(DB.shape)\n",
    "print(DB)"
   ]
  }
 ],
 "metadata": {
  "kernelspec": {
   "display_name": "Python 3",
   "language": "python",
   "name": "python3"
  },
  "language_info": {
   "codemirror_mode": {
    "name": "ipython",
    "version": 3
   },
   "file_extension": ".py",
   "mimetype": "text/x-python",
   "name": "python",
   "nbconvert_exporter": "python",
   "pygments_lexer": "ipython3",
   "version": "3.9.13"
  },
  "vscode": {
   "interpreter": {
    "hash": "cfda9e78e2f6edac985bae6c5a5a38d8a51852b7fc3718ee3474cc8dc904a5e1"
   }
  }
 },
 "nbformat": 4,
 "nbformat_minor": 2
}
